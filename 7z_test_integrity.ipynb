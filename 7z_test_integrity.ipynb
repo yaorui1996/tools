{
 "cells": [
  {
   "cell_type": "code",
   "execution_count": 4,
   "metadata": {},
   "outputs": [
    {
     "name": "stdout",
     "output_type": "stream",
     "text": [
      "['e:\\\\YFamily\\\\姚睿\\\\备份\\\\Email\\\\messages_package#THU发送#20230627.7z', 'e:\\\\YFamily\\\\姚睿\\\\备份\\\\Email\\\\messages_package#THU接收#20230627.7z', 'e:\\\\YFamily\\\\姚睿\\\\备份\\\\Email\\\\messages_package#USTC发送#20230627.7z', 'e:\\\\YFamily\\\\姚睿\\\\备份\\\\Email\\\\messages_package#USTC发送#20230628.7z', 'e:\\\\YFamily\\\\姚睿\\\\备份\\\\Email\\\\messages_package#USTC接收#20230627.7z', 'e:\\\\YFamily\\\\姚睿\\\\备份\\\\Email\\\\messages_package#USTC接收#20230628.7z', 'e:\\\\YFamily\\\\姚睿\\\\备份\\\\Git\\\\github.com\\\\20230705_yaorui1996@gmail.com.gz', 'e:\\\\YFamily\\\\姚睿\\\\备份\\\\Git\\\\gitlab.hyqubit.com\\\\2023-07-04_09-49-976_yaorui_smart-pdu_export.tar.gz', 'e:\\\\YFamily\\\\姚睿\\\\备份\\\\Git\\\\gitlab.hyqubit.com\\\\2023-07-04_09-52-862_yaorui_rm1000-gpio_export.tar.gz', 'e:\\\\YFamily\\\\姚睿\\\\备份\\\\Git\\\\gitlab.hyqubit.com\\\\2023-07-04_09-56-653_yaorui_ion-crystal-processor_export.tar.gz', 'e:\\\\YFamily\\\\姚睿\\\\备份\\\\Git\\\\gitlab.hyqubit.com\\\\2023-07-04_09-56-853_yaorui_k62-04-mqtt_export.tar.gz', 'e:\\\\YFamily\\\\姚睿\\\\备份\\\\iCloud\\\\THU课程#20200914.7z', 'e:\\\\YFamily\\\\姚睿\\\\备份\\\\iCloud\\\\YFamily#20230702.7z', 'e:\\\\YFamily\\\\姚睿\\\\备份\\\\iCloud\\\\YFamily#20240223.7z', 'e:\\\\YFamily\\\\姚睿\\\\备份\\\\Password\\\\lastpass_export#20230629.7z', 'e:\\\\YFamily\\\\姚睿\\\\备份\\\\USTC\\\\USTCMail.7z', 'e:\\\\YFamily\\\\姚睿\\\\备份\\\\USTC\\\\文件.7z', 'e:\\\\YFamily\\\\姚睿\\\\备份\\\\USTC\\\\毕业设计.7z', 'e:\\\\YFamily\\\\姚睿\\\\备份\\\\USTC\\\\课件.7z', 'e:\\\\YFamily\\\\姚睿\\\\备份\\\\Wechat\\\\backup_20230216.zip', 'e:\\\\YFamily\\\\姚睿\\\\备份\\\\Wechat\\\\backup_20230927.zip', 'e:\\\\YFamily\\\\姚睿\\\\备份\\\\Wechat\\\\backup_20231102.zip', 'e:\\\\YFamily\\\\姚睿\\\\备份\\\\Wechat\\\\backup_20240304.zip', 'e:\\\\YFamily\\\\姚睿\\\\备份\\\\一刻相册\\\\【201012】云南_20240519.zip', 'e:\\\\YFamily\\\\姚睿\\\\备份\\\\一刻相册\\\\【201305】芜湖一中漫展_20240519.zip', 'e:\\\\YFamily\\\\姚睿\\\\备份\\\\一刻相册\\\\【2013】芜湖一中春游_20240519.zip', 'e:\\\\YFamily\\\\姚睿\\\\备份\\\\一刻相册\\\\【201403】芜湖一中25班_20240519.zip', 'e:\\\\YFamily\\\\姚睿\\\\备份\\\\一刻相册\\\\【201407】成都_20240519.zip', 'e:\\\\YFamily\\\\姚睿\\\\备份\\\\一刻相册\\\\【201409】中科大_20240519.zip', 'e:\\\\YFamily\\\\姚睿\\\\备份\\\\一刻相册\\\\【201508】翡翠谷呈坎_20240519.zip', 'e:\\\\YFamily\\\\姚睿\\\\备份\\\\一刻相册\\\\【201508】青岛_20240519.zip', 'e:\\\\YFamily\\\\姚睿\\\\备份\\\\一刻相册\\\\【201509】和县之旅_20240519.zip', 'e:\\\\YFamily\\\\姚睿\\\\备份\\\\一刻相册\\\\【201510】雕塑公园_20240519.zip', 'e:\\\\YFamily\\\\姚睿\\\\备份\\\\一刻相册\\\\【2015】芜湖一中寒假聚会_20240519.zip', 'e:\\\\YFamily\\\\姚睿\\\\备份\\\\一刻相册\\\\【201603】第七届全国大学生数学竞赛_20240519.zip', 'e:\\\\YFamily\\\\姚睿\\\\备份\\\\一刻相册\\\\【201710】西塘古镇_20240608.zip', 'e:\\\\YFamily\\\\姚睿\\\\备份\\\\一刻相册\\\\【201806】中科大毕业典礼_20240519.zip', 'e:\\\\YFamily\\\\姚睿\\\\备份\\\\一刻相册\\\\【201807】澳大利亚_20240608.zip', 'e:\\\\YFamily\\\\姚睿\\\\备份\\\\一刻相册\\\\【2018】清华_20240519.zip', 'e:\\\\YFamily\\\\姚睿\\\\备份\\\\一刻相册\\\\【201902】北海_20240612.zip', 'e:\\\\YFamily\\\\姚睿\\\\备份\\\\一刻相册\\\\【201907】马里兰华盛顿_20240519.zip', 'e:\\\\YFamily\\\\姚睿\\\\备份\\\\一刻相册\\\\【201908】大同_20240612.zip', 'e:\\\\YFamily\\\\姚睿\\\\备份\\\\一刻相册\\\\【201908】朝鲜_20240612.zip', 'e:\\\\YFamily\\\\姚睿\\\\备份\\\\一刻相册\\\\【202210】温州_20240612.zip', 'e:\\\\YFamily\\\\姚睿\\\\备份\\\\一刻相册\\\\【202306】清华毕业典礼_20240612.zip', 'e:\\\\YFamily\\\\姚睿\\\\备份\\\\一刻相册\\\\【202310】澳门香港_20240612.zip', 'e:\\\\YFamily\\\\姚睿\\\\备份\\\\一刻相册\\\\【202312】滑雪_20240519.zip', 'e:\\\\YFamily\\\\姚睿\\\\备份\\\\一刻相册\\\\【202402】泉州厦门_20240612.zip', 'e:\\\\YFamily\\\\姚睿\\\\备份\\\\一刻相册\\\\【202403】泰国_20240517.zip', 'e:\\\\YFamily\\\\姚睿\\\\备份\\\\一刻相册\\\\【202403】环球影城_20240612.zip', 'e:\\\\YFamily\\\\姚睿\\\\备份\\\\一刻相册\\\\【202404】婚礼筹备_20240612.zip', 'e:\\\\YFamily\\\\姚睿\\\\备份\\\\一刻相册\\\\【202404】婚纱照_20240612.zip', 'e:\\\\YFamily\\\\姚睿\\\\备份\\\\一刻相册\\\\【20240505】玫瑰庄园 已修_20240914.zip', 'e:\\\\YFamily\\\\姚睿\\\\备份\\\\一刻相册\\\\【20240505】玫瑰庄园 底片_20240914.zip', 'e:\\\\YFamily\\\\姚睿\\\\备份\\\\一刻相册\\\\【202405】全家福_20240612.zip', 'e:\\\\YFamily\\\\姚睿\\\\备份\\\\一刻相册\\\\【202405】婚礼现场_20240612.zip', 'e:\\\\YFamily\\\\姚睿\\\\备份\\\\一刻相册\\\\【202406】淄博_20240612.zip', 'e:\\\\YFamily\\\\姚睿\\\\备份\\\\一刻相册\\\\【20240903】长沙出差_20240914.zip', 'e:\\\\YFamily\\\\姚睿\\\\备份\\\\一刻相册\\\\【2024】芜湖一中聚会_20240519.zip', 'e:\\\\YFamily\\\\姚睿\\\\备份\\\\一刻相册\\\\【日常】天文_20240914.zip', 'e:\\\\YFamily\\\\姚睿\\\\备份\\\\一刻相册\\\\日常_20240612.zip', 'e:\\\\YFamily\\\\姚睿\\\\备份\\\\一刻相册\\\\旧时相册_20240612.zip']\n",
      "数据已成功写入文件。\n"
     ]
    }
   ],
   "source": [
    "import os\n",
    "\n",
    "# 递归遍历目录并获取所有文件名\n",
    "def get_all_files(directory):\n",
    "    file_names = []\n",
    "    for root, dirs, files in os.walk(directory):\n",
    "        for file in files:\n",
    "            file_names.append(os.path.join(root, file))\n",
    "    return file_names\n",
    "\n",
    "# 获取当前工作目录\n",
    "current_directory = os.getcwd()\n",
    "\n",
    "# 获取当前目录及其所有子目录中的所有文件名\n",
    "all_files = get_all_files(current_directory)\n",
    "\n",
    "all_files = [item for item in all_files if item.endswith('.7z') or item.endswith('.7z.001') or item.endswith('.gz') or item.endswith('.zip')]\n",
    "\n",
    "# 打印包含所有文件名的数组\n",
    "print(all_files)\n",
    "\n",
    "# 打开文件以写入模式\n",
    "with open(\"output.txt\", \"w\", encoding=\"utf-8\") as file:\n",
    "    # 将数组中的内容逐行写入文件\n",
    "    for item in all_files:\n",
    "        file.write(item + \"\\n\")\n",
    "\n",
    "print(\"数据已成功写入文件。\")"
   ]
  },
  {
   "cell_type": "code",
   "execution_count": 5,
   "metadata": {},
   "outputs": [],
   "source": [
    "import numpy as np\n",
    "\n",
    "results = np.empty((len(all_files),2), dtype='<U10240')\n",
    "\n",
    "for i in range(len(all_files)):\n",
    "        results[i, 0] = all_files[i]\n"
   ]
  },
  {
   "cell_type": "code",
   "execution_count": 6,
   "metadata": {},
   "outputs": [],
   "source": [
    "import subprocess\n",
    "\n",
    "def check_zip_file_integrity(zip_file_path):\n",
    "    # 构建7zip命令\n",
    "    command = f'7z t \"{zip_file_path}\"'\n",
    "    \n",
    "    # 执行命令\n",
    "    result = subprocess.run(command, shell=True, stdout=subprocess.PIPE, stderr=subprocess.PIPE, text=True)\n",
    "    \n",
    "    return result.stdout"
   ]
  },
  {
   "cell_type": "code",
   "execution_count": 7,
   "metadata": {},
   "outputs": [
    {
     "name": "stdout",
     "output_type": "stream",
     "text": [
      "1/62,\t6.630301475524902\n",
      "2/62,\t13.19158673286438\n",
      "3/62,\t0.2625434398651123\n",
      "4/62,\t0.23363161087036133\n",
      "5/62,\t0.7789294719696045\n",
      "6/62,\t1.542402744293213\n",
      "7/62,\t0.9813365936279297\n",
      "8/62,\t0.2821485996246338\n",
      "9/62,\t0.23699474334716797\n",
      "10/62,\t0.40112853050231934\n",
      "11/62,\t0.06663298606872559\n",
      "12/62,\t0.9041619300842285\n",
      "13/62,\t73.74588680267334\n",
      "14/62,\t"
     ]
    }
   ],
   "source": [
    "import time\n",
    "\n",
    "\n",
    "for i in range(len(all_files)):\n",
    "    t0 = time.time()\n",
    "    print(f'{i+1}/{len(all_files)},\\t', end='')\n",
    "    results[i,1] = check_zip_file_integrity(all_files[i])\n",
    "    np.save('results.npy', results)\n",
    "    print(time.time() - t0)\n"
   ]
  },
  {
   "cell_type": "code",
   "execution_count": 94,
   "metadata": {},
   "outputs": [
    {
     "name": "stdout",
     "output_type": "stream",
     "text": [
      "e:\\YFamily\\姚睿\\冷数据\\HYQ Nextcloud\\Nextcloud 2023-08-06\\Nextcloud 20230806.7z.001 \n",
      "7-Zip 22.01 (x64) : Copyright (c) 1999-2022 Igor Pavlov : 2022-07-15\n",
      "\n",
      "Scanning the drive for archives:\n",
      "1 folder, 4 files, 18289230275 bytes (18 GiB)\n",
      "\n",
      "Testing archive: e:\\YFamily\\姚睿\\冷数据\\HYQ\\HYQ_Experiment#20230112.7z\n",
      "--\n",
      "Path = e:\\YFamily\\姚睿\\冷数据\\HYQ\\HYQ_Experiment#20230112.7z\n",
      "Type = 7z\n",
      "Physical Size = 576048226\n",
      "Headers Size = 11901\n",
      "Method = LZMA2:24 BCJ\n",
      "Solid = +\n",
      "Blocks = 2\n",
      "\n",
      "\n",
      "No files to process\n",
      "Everything is Ok\n",
      "\n",
      "Testing archive: e:\\YFamily\\姚睿\\冷数据\\HYQ\\HYQ_Experiment#20230621.7z\n",
      "--\n",
      "Path = e:\\YFamily\\姚睿\\冷数据\\HYQ\\HYQ_Experiment#20230621.7z\n",
      "Type = 7z\n",
      "Physical Size = 2510958429\n",
      "Headers Size = 49457\n",
      "Method = LZMA2:24 BCJ\n",
      "Solid = +\n",
      "Blocks = 5\n",
      "\n",
      "\n",
      "No files to process\n",
      "Everything is Ok\n",
      "\n",
      "Testing archive: e:\\YFamily\\姚睿\\冷数据\\HYQ\\HYQ_Experiment#20230927.7z\n",
      "--\n",
      "Path = e:\\YFamily\\姚睿\\冷数据\\HYQ\\HYQ_Experiment#20230927.7z\n",
      "Type = 7z\n",
      "Physical Size = 14921658299\n",
      "Headers Size = 126194\n",
      "Method = LZMA2:24 BCJ\n",
      "Solid = +\n",
      "Blocks = 17\n",
      "\n",
      "\n",
      "No files to process\n",
      "Everything is Ok\n",
      "\n",
      "Testing archive: e:\\YFamily\\姚睿\\冷数据\\HYQ\\HYQ_装腔工作记录_临时#20230620.7z\n",
      "--\n",
      "Path = e:\\YFamily\\姚睿\\冷数据\\HYQ\\HYQ_装腔工作记录_临时#20230620.7z\n",
      "Type = 7z\n",
      "Physical Size = 280565321\n",
      "Headers Size = 215\n",
      "Method = LZMA2:24\n",
      "Solid = -\n",
      "Blocks = 1\n",
      "\n",
      "\n",
      "No files to process\n",
      "Everything is Ok\n",
      "\n",
      "Archives: 4\n",
      "OK archives: 4\n",
      "Files: 0\n",
      "Size:       0\n",
      "Compressed: 18289230275\n",
      "\n"
     ]
    }
   ],
   "source": [
    "loaded_array = np.load('results.npy')\n",
    "i = 4\n",
    "print(loaded_array[i,0], '\\t' * 5,'Everything is Ok' in loaded_array[i,1])"
   ]
  },
  {
   "cell_type": "code",
   "execution_count": null,
   "metadata": {},
   "outputs": [],
   "source": []
  }
 ],
 "metadata": {
  "kernelspec": {
   "display_name": "Python 3",
   "language": "python",
   "name": "python3"
  },
  "language_info": {
   "codemirror_mode": {
    "name": "ipython",
    "version": 3
   },
   "file_extension": ".py",
   "mimetype": "text/x-python",
   "name": "python",
   "nbconvert_exporter": "python",
   "pygments_lexer": "ipython3",
   "version": "3.10.11"
  }
 },
 "nbformat": 4,
 "nbformat_minor": 2
}
